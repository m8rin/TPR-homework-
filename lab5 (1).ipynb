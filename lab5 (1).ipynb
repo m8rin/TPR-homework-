{
 "cells": [
  {
   "cell_type": "markdown",
   "metadata": {},
   "source": [
    "**Задание 1**\n",
    "Напишите функцию, которая возвращает название валюты (поле ‘Name’) с максимальным значением курса с помощью сервиса https://www.cbr-xml-daily.ru/daily_json.js\n"
   ]
  },
  {
   "cell_type": "code",
   "execution_count": 110,
   "metadata": {},
   "outputs": [
    {
     "name": "stdout",
     "output_type": "stream",
     "text": [
      "('СДР (специальные права заимствования)', 112.0834)\n"
     ]
    }
   ],
   "source": [
    "import requests\n",
    "class Rate:\n",
    "    \n",
    "    def __init__(self, format_='value'):\n",
    "        self.format = format_\n",
    "    \n",
    "    def exchange_rates(self):\n",
    "        self.r = requests.get('https://www.cbr-xml-daily.ru/daily_json.js')\n",
    "        return self.r.json()['Valute']\n",
    "    \n",
    "    def make_format(self, currency):\n",
    "        response = self.exchange_rates()\n",
    "        \n",
    "        if currency in response:\n",
    "            if self.format == 'full':\n",
    "                return response[currency]\n",
    "            \n",
    "            if self.format == 'value':\n",
    "                return response[currency]['Value']\n",
    "        \n",
    "        return 'Error'\n",
    "\n",
    "    def find_max(self):\n",
    "        max = 0\n",
    "        max_name = ''\n",
    "        response = self.exchange_rates()\n",
    "        for i in response:\n",
    "            k = (response[i]['Value'])/(response[i]['Nominal'])\n",
    "            if k > max:\n",
    "                max_name = response[i]['Name']\n",
    "                max = k                           \n",
    "        return max_name, max\n",
    "\n",
    "print(Rate().find_max())\n"
   ]
  },
  {
   "cell_type": "markdown",
   "metadata": {},
   "source": [
    "**Задание 2**\n",
    "Добавьте в класс Rate параметр diff (со значениями True или False), который в случае значения True в методах курсов валют (eur, usd итд) будет возвращать не курс валюты, а изменение по сравнению в прошлым значением. Считайте, self.diff будет принимать значение True только при возврате значения курса. При отображении всей информации о валюте он не используется.\n"
   ]
  },
  {
   "cell_type": "code",
   "execution_count": 4,
   "metadata": {},
   "outputs": [
    {
     "name": "stdout",
     "output_type": "stream",
     "text": [
      "Изменение: + 0.3837999999999937\n"
     ]
    }
   ],
   "source": [
    "import requests\n",
    "class Rate:\n",
    "    \n",
    "    def __init__(self, format_='value',diff = False):\n",
    "        self.format = format_\n",
    "        self.diff = diff\n",
    "    \n",
    "    \n",
    "    def exchange_rates(self):\n",
    "        \n",
    "        self.r = requests.get('https://www.cbr-xml-daily.ru/daily_json.js')\n",
    "        return self.r.json()['Valute']\n",
    "    \n",
    "    def make_format(self, currency):\n",
    "        \n",
    "        response = self.exchange_rates()\n",
    "        \n",
    "        if currency in response:\n",
    "            if self.format == 'full':\n",
    "                return response[currency]\n",
    "            \n",
    "            if self.format == 'value':\n",
    "                return response[currency]['Value']\n",
    "        \n",
    "        return 'Error'\n",
    "    \n",
    "    \n",
    "    def eur(self):\n",
    "        \n",
    "        return self.make_format('EUR')\n",
    "    \n",
    "    \n",
    "    def usd(self):\n",
    "       \n",
    "        return self.make_format('USD')\n",
    "    \n",
    "    \n",
    "    def brl(self):\n",
    "        \n",
    "        return self.make_format('BRL')\n",
    "    \n",
    "    \n",
    "    def diff_delta(self,currency):\n",
    "        \n",
    "        response = self.exchange_rates()\n",
    "        value = response[currency]['Value']\n",
    "        previous = response[currency]['Previous']\n",
    "        return (value - previous) if (self.diff) else value\n",
    "    \n",
    "    \n",
    "    def current_course_info(self,currency):\n",
    "        \n",
    "        info_label = 'Текущий курс: '\n",
    "        if (self.diff):\n",
    "            sign = '+' if (self.diff_delta(currency)) > 0 else ''\n",
    "            info_label = 'Изменение: ' + sign\n",
    "        print(str(info_label) + ' ' + str(self.diff_delta(currency)))\n",
    "        \n",
    "        \n",
    "rate = Rate('full',True)\n",
    "\n",
    "rate.current_course_info('USD')"
   ]
  },
  {
   "cell_type": "markdown",
   "metadata": {},
   "source": [
    "**Задание 3**\n",
    "Напишите класс Designer, который учитывает количество международных премий для дизайнеров (из презентации: \"Повышение на 1 грейд за каждые 7 баллов. Получение международной премии – это +2 балла\" для каждой аккредитации увеличиваем счетчик на 1, пока считаем, что все дизайнеры проходят аккредитацию). Считайте, что при выходе на работу сотрудник уже имеет две премии и их количество меняется со стажем (получение премии генератор случайных чисел ). Выполните проверку для 20 аккредитаций дизайнера Елены. Подсказки в коде занятия в разделе “Домашнее задание задача 3”.\n"
   ]
  },
  {
   "cell_type": "code",
   "execution_count": null,
   "metadata": {},
   "outputs": [],
   "source": [
    "#Для проверки используйте код:\n",
    "\n",
    "elena = Designer('Елена', seniority=0, awards=2)\n",
    "for i in range(20):\n",
    "    elena.check_if_it_is_time_for_upgrade()"
   ]
  },
  {
   "cell_type": "code",
   "execution_count": 2,
   "metadata": {},
   "outputs": [
    {
     "name": "stdout",
     "output_type": "stream",
     "text": [
      "Дизайнер: Елена Уровень: 1 Очки: 5\n",
      "Дизайнер: Елена Уровень: 2 Очки: 7\n",
      "Дизайнер: Елена Уровень: 2 Очки: 9\n",
      "Дизайнер: Елена Уровень: 2 Очки: 10\n",
      "Дизайнер: Елена Уровень: 2 Очки: 12\n",
      "Дизайнер: Елена Уровень: 3 Очки: 14\n",
      "Дизайнер: Елена Уровень: 3 Очки: 16\n",
      "Дизайнер: Елена Уровень: 3 Очки: 17\n",
      "Дизайнер: Елена Уровень: 3 Очки: 18\n",
      "Дизайнер: Елена Уровень: 3 Очки: 20\n",
      "Дизайнер: Елена Уровень: 3 Очки: 22\n",
      "Дизайнер: Елена Уровень: 3 Очки: 23\n",
      "Дизайнер: Елена Уровень: 3 Очки: 25\n",
      "Дизайнер: Елена Уровень: 3 Очки: 26\n",
      "Дизайнер: Елена Уровень: 3 Очки: 27\n",
      "Дизайнер: Елена Уровень: 4 Очки: 28\n",
      "Дизайнер: Елена Уровень: 4 Очки: 30\n",
      "Дизайнер: Елена Уровень: 4 Очки: 31\n",
      "Дизайнер: Елена Уровень: 4 Очки: 32\n",
      "Дизайнер: Елена Уровень: 4 Очки: 34\n"
     ]
    }
   ],
   "source": [
    "from random import randint\n",
    "\n",
    "class Designer:\n",
    "    def __init__(self,name,seniority,awards):\n",
    "        self.name = name\n",
    "        self.seniority = seniority\n",
    "        self.awards = awards\n",
    "        self.grade = 1\n",
    "        self.score = awards + 2\n",
    "    \n",
    "    def publish_grade(self):\n",
    "        \"\"\"Публикация результатов аккредитации сотрудников\"\"\"\n",
    "        print('Дизайнер: ' + self.name + ' Уровень: ' + str(self.grade) + ' Очки: ' + str(self.score))\n",
    "     \n",
    "    def grade_up(self):\n",
    "        self.grade += 1\n",
    "    \n",
    "    def check_if_it_is_time_for_upgrade(self):\n",
    "        self.seniority += 1\n",
    "        self.score += randint(1,2)\n",
    "        if (self.score % 7 == 0):\n",
    "            self.grade_up()\n",
    "        return (self.publish_grade())\n",
    "               \n",
    "elena = Designer('Елена', seniority=0, awards=2)\n",
    "for i in range(20):\n",
    "    elena.check_if_it_is_time_for_upgrade()"
   ]
  },
  {
   "cell_type": "code",
   "execution_count": null,
   "metadata": {},
   "outputs": [],
   "source": []
  }
 ],
 "metadata": {
  "kernelspec": {
   "display_name": "Python 3",
   "language": "python",
   "name": "python3"
  },
  "language_info": {
   "codemirror_mode": {
    "name": "ipython",
    "version": 3
   },
   "file_extension": ".py",
   "mimetype": "text/x-python",
   "name": "python",
   "nbconvert_exporter": "python",
   "pygments_lexer": "ipython3",
   "version": "3.8.3"
  }
 },
 "nbformat": 4,
 "nbformat_minor": 4
}
