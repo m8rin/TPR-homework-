{
 "cells": [
  {
   "cell_type": "markdown",
   "metadata": {},
   "source": [
    "Вы работаете секретарем и вам постоянно приходят различные документы. Вы должны быть очень внимательны, чтобы не потерять ни один документ. Каталог документов хранится в следующем виде:"
   ]
  },
  {
   "cell_type": "code",
   "execution_count": 43,
   "metadata": {},
   "outputs": [],
   "source": [
    "documents = [\n",
    "    {'type': 'passport', 'number': '2207 876234', 'name': 'Василий Гупкин'},\n",
    "    {'type': 'invoice', 'number': '11-2', 'name': 'Геннадий Покемонов'},\n",
    "    {'type': 'insurance', 'number': '10006', 'name': 'Аристарх Павлов'}\n",
    "]"
   ]
  },
  {
   "cell_type": "code",
   "execution_count": 34,
   "metadata": {},
   "outputs": [],
   "source": [
    "def print_documents(documents):\n",
    "    for doc in documents:\n",
    "        print(doc)"
   ]
  },
  {
   "cell_type": "markdown",
   "metadata": {},
   "source": [
    "Перечень полок, на которых находятся документы хранится в следующем виде:"
   ]
  },
  {
   "cell_type": "code",
   "execution_count": 35,
   "metadata": {},
   "outputs": [],
   "source": [
    "directories = {\n",
    "    '1': ['2207 876234', '11-2'],\n",
    "    '2': ['10006'],\n",
    "    '3': []\n",
    "}"
   ]
  },
  {
   "cell_type": "code",
   "execution_count": 40,
   "metadata": {},
   "outputs": [],
   "source": [
    "def print_directories(directories):\n",
    "    for key,value in directories.items():\n",
    "        print(key,value)"
   ]
  },
  {
   "cell_type": "code",
   "execution_count": null,
   "metadata": {},
   "outputs": [
    {
     "name": "stdout",
     "output_type": "stream",
     "text": [
      "Введите команду: l\n",
      "Список всех документов: \n",
      "{'type': 'passport', 'number': '2207 876234', 'name': 'Василий Гупкин'}\n",
      "{'type': 'invoice', 'number': '11-2', 'name': 'Геннадий Покемонов'}\n",
      "{'type': 'insurance', 'number': '10006', 'name': 'Аристарх Павлов'}\n"
     ]
    }
   ],
   "source": [
    "documents = [\n",
    "    {'type': 'passport', 'number': '2207 876234', 'name': 'Василий Гупкин'},\n",
    "    {'type': 'invoice', 'number': '11-2', 'name': 'Геннадий Покемонов'},\n",
    "    {'type': 'insurance', 'number': '10006', 'name': 'Аристарх Павлов'}\n",
    "]\n",
    "\n",
    "directories = {\n",
    "    '1': ['2207 876234', '11-2'],\n",
    "    '2': ['10006'],\n",
    "    '3': []\n",
    "}\n",
    "\n",
    "def main():\n",
    "    while True:\n",
    "        user_input = input('Введите команду: ')\n",
    "        \n",
    "        if user_input == 'p':\n",
    "            numbers = input('Введите номер документа: ')\n",
    "            people(numbers)\n",
    "            \n",
    "        elif user_input == 's':\n",
    "            numbers = input('Введите номер документа: ')\n",
    "            shelf(numbers)\n",
    "            \n",
    "        elif user_input == 'l':\n",
    "            print('Список всех документов: ')\n",
    "            for persons in documents:\n",
    "                print(persons['type'], '\"'+persons['number']+'\"', '\"'+persons['name']+'\"')\n",
    "                \n",
    "        elif user_input == 'as':\n",
    "            directories_number = input('Введите номер новой полки, которую хотите добавить в перечень: ')\n",
    "            add_shelf(directories_number)\n",
    "            \n",
    "        elif user_input == 'd': \n",
    "            break\n",
    "        elif user_input == 'm':\n",
    "            break\n",
    "        elif user_input == 'add':\n",
    "            break\n",
    "            \n",
    "def people(numbers):\n",
    "    for doc in documents:\n",
    "        if doc[\"number\"] == numbers:\n",
    "            name = doc[\"name\"]\n",
    "            break\n",
    "        name = None\n",
    "    if name != None:\n",
    "        print(name)\n",
    "    else:\n",
    "        print('Документа с таким номером нет в базе.')\n",
    "\n",
    "def shelf(numbers):\n",
    "    count = 0\n",
    "    for shelf_directories in directories.items():\n",
    "        for doc in shelf_directories[1]:\n",
    "            if doc == numbers:\n",
    "                direct = shelf_directories[0]\n",
    "                count+=1\n",
    "                break    \n",
    "    if count != 0:\n",
    "        print('Номер полки, на которой лежит документ:',direct)\n",
    "    else:\n",
    "        print('Документа с таким номером нет в базе.')\n",
    "\n",
    "def add_shelf(directories_number):\n",
    "    if \n",
    "    else:\n",
    "        print('Введенная полка уже существует. Запись не осуществлена.')\n",
    "\n",
    "main()"
   ]
  },
  {
   "cell_type": "markdown",
   "metadata": {},
   "source": [
    "Необходимо реализовать пользовательские команды (внимание! это не название функций, которые должны быть выразительными, а команды, которые вводит пользователь, чтобы получить необходимый результат):\n",
    "\n",
    "* p – people – команда, которая спросит номер документа и выведет имя человека, которому он принадлежит;\n",
    "* s – shelf – команда, которая спросит номер документа и выведет номер полки, на которой он находится\n",
    "Правильно обработайте ситуации, когда пользователь будет вводить несуществующий документ.\n",
    "* l – list – команда, которая выведет список всех документов в формате\n",
    "**passport \"2207 876234\" \"Василий Гупкин\"**\n",
    "* as – add shelf – команда, которая спросит номер новой полки и добавит ее в перечень. Предусмотрите случай, когда пользователь добавляет полку, которая уже существует.\n",
    "* d – delete – команда, которая спросит номер документа и удалит его из каталога и из перечня полок. Предусмотрите сценарий, когда пользователь вводит несуществующий документ;\n",
    "* m – move – команда, которая спросит номер документа и целевую полку и переместит его с текущей полки на целевую. Корректно обработайте кейсы, когда пользователь пытается переместить несуществующий документ или переместить документ на несуществующую полку;\n",
    "*  add – команда, которая добавит новый документ в каталог и в перечень полок, спросив его номер, тип, имя владельца и номер полки, на котором он будет храниться. Корректно обработайте ситуацию, когда пользователь будет пытаться добавить документ на несуществующую полку."
   ]
  },
  {
   "cell_type": "code",
   "execution_count": null,
   "metadata": {},
   "outputs": [],
   "source": []
  }
 ],
 "metadata": {
  "kernelspec": {
   "display_name": "Python 3",
   "language": "python",
   "name": "python3"
  },
  "language_info": {
   "codemirror_mode": {
    "name": "ipython",
    "version": 3
   },
   "file_extension": ".py",
   "mimetype": "text/x-python",
   "name": "python",
   "nbconvert_exporter": "python",
   "pygments_lexer": "ipython3",
   "version": "3.8.3"
  }
 },
 "nbformat": 4,
 "nbformat_minor": 4
}
